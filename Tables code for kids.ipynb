{
 "cells": [
  {
   "cell_type": "code",
   "execution_count": 20,
   "id": "152a8b81",
   "metadata": {},
   "outputs": [
    {
     "name": "stdout",
     "output_type": "stream",
     "text": [
      "Enter a number: 10\n",
      "1   2   3   4   5   6   7   8   9   10   \n",
      "2   4   6   8   10   12   14   16   18   20   \n",
      "3   6   9   12   15   18   21   24   27   30   \n",
      "4   8   12   16   20   24   28   32   36   40   \n",
      "5   10   15   20   25   30   35   40   45   50   \n",
      "6   12   18   24   30   36   42   48   54   60   \n",
      "7   14   21   28   35   42   49   56   63   70   \n",
      "8   16   24   32   40   48   56   64   72   80   \n",
      "9   18   27   36   45   54   63   72   81   90   \n",
      "10   20   30   40   50   60   70   80   90   100   \n"
     ]
    }
   ],
   "source": [
    "# Ask the user to enter a number\n",
    "n = int(input(\"Enter a number: \"))\n",
    "\n",
    "# Loop through the rows from `1` to `n`\n",
    "for i in range(1, n +1):\n",
    "\n",
    "    # Loop through the columns from `1` to `n`\n",
    "    for j in range(1, n +1):\n",
    "\n",
    "        # Print the product of `i` and `j`, followed by a space\n",
    "        print(i * j, end=\"   \")\n",
    "\n",
    "    # Print a new line at the end of each row\n",
    "    print()\n"
   ]
  },
  {
   "cell_type": "code",
   "execution_count": null,
   "id": "a459e19b",
   "metadata": {},
   "outputs": [],
   "source": []
  }
 ],
 "metadata": {
  "kernelspec": {
   "display_name": "Python 3 (ipykernel)",
   "language": "python",
   "name": "python3"
  },
  "language_info": {
   "codemirror_mode": {
    "name": "ipython",
    "version": 3
   },
   "file_extension": ".py",
   "mimetype": "text/x-python",
   "name": "python",
   "nbconvert_exporter": "python",
   "pygments_lexer": "ipython3",
   "version": "3.11.4"
  }
 },
 "nbformat": 4,
 "nbformat_minor": 5
}
